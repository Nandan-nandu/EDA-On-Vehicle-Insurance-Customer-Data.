{
 "cells": [
  {
   "cell_type": "markdown",
   "id": "52227524",
   "metadata": {},
   "source": [
    "## EDA on Vehicle Insurance Customer Data"
   ]
  },
  {
   "cell_type": "markdown",
   "id": "66edd5af",
   "metadata": {},
   "source": [
    "### A company has customer data that contains 8 columns of customer details and another table having name customer_policy data contains the policy details of the customer.\n",
    "\n",
    "### The company intends to offer some discount in premium for certain customers. To do that they ask their Data scientist team to get some information. Hence, following tasks DS team decided to perform:"
   ]
  },
  {
   "cell_type": "code",
   "execution_count": 1,
   "id": "0154c03f",
   "metadata": {},
   "outputs": [],
   "source": [
    "import numpy as np\n",
    "import pandas as pd"
   ]
  },
  {
   "cell_type": "code",
   "execution_count": 2,
   "id": "2d3be3f6",
   "metadata": {},
   "outputs": [],
   "source": [
    "df=pd.read_csv(\"customer_details.csv\")\n",
    "df2=pd.read_csv(\"customer_policy_details.csv\")"
   ]
  },
  {
   "cell_type": "code",
   "execution_count": 3,
   "id": "1c3e7184",
   "metadata": {
    "scrolled": true
   },
   "outputs": [
    {
     "data": {
      "text/html": [
       "<div>\n",
       "<style scoped>\n",
       "    .dataframe tbody tr th:only-of-type {\n",
       "        vertical-align: middle;\n",
       "    }\n",
       "\n",
       "    .dataframe tbody tr th {\n",
       "        vertical-align: top;\n",
       "    }\n",
       "\n",
       "    .dataframe thead th {\n",
       "        text-align: right;\n",
       "    }\n",
       "</style>\n",
       "<table border=\"1\" class=\"dataframe\">\n",
       "  <thead>\n",
       "    <tr style=\"text-align: right;\">\n",
       "      <th></th>\n",
       "      <th>0</th>\n",
       "      <th>1</th>\n",
       "      <th>2</th>\n",
       "      <th>3</th>\n",
       "      <th>4</th>\n",
       "      <th>5</th>\n",
       "      <th>6</th>\n",
       "      <th>7</th>\n",
       "    </tr>\n",
       "  </thead>\n",
       "  <tbody>\n",
       "    <tr>\n",
       "      <th>0</th>\n",
       "      <td>1.0</td>\n",
       "      <td>Male</td>\n",
       "      <td>44.0</td>\n",
       "      <td>1.0</td>\n",
       "      <td>28.0</td>\n",
       "      <td>0.0</td>\n",
       "      <td>&gt; 2 Years</td>\n",
       "      <td>Yes</td>\n",
       "    </tr>\n",
       "    <tr>\n",
       "      <th>1</th>\n",
       "      <td>2.0</td>\n",
       "      <td>Male</td>\n",
       "      <td>76.0</td>\n",
       "      <td>1.0</td>\n",
       "      <td>3.0</td>\n",
       "      <td>0.0</td>\n",
       "      <td>1-2 Year</td>\n",
       "      <td>No</td>\n",
       "    </tr>\n",
       "    <tr>\n",
       "      <th>2</th>\n",
       "      <td>3.0</td>\n",
       "      <td>Male</td>\n",
       "      <td>47.0</td>\n",
       "      <td>1.0</td>\n",
       "      <td>28.0</td>\n",
       "      <td>0.0</td>\n",
       "      <td>&gt; 2 Years</td>\n",
       "      <td>Yes</td>\n",
       "    </tr>\n",
       "    <tr>\n",
       "      <th>3</th>\n",
       "      <td>4.0</td>\n",
       "      <td>Male</td>\n",
       "      <td>21.0</td>\n",
       "      <td>1.0</td>\n",
       "      <td>11.0</td>\n",
       "      <td>1.0</td>\n",
       "      <td>&lt; 1 Year</td>\n",
       "      <td>No</td>\n",
       "    </tr>\n",
       "    <tr>\n",
       "      <th>4</th>\n",
       "      <td>5.0</td>\n",
       "      <td>Female</td>\n",
       "      <td>29.0</td>\n",
       "      <td>1.0</td>\n",
       "      <td>41.0</td>\n",
       "      <td>1.0</td>\n",
       "      <td>&lt; 1 Year</td>\n",
       "      <td>No</td>\n",
       "    </tr>\n",
       "  </tbody>\n",
       "</table>\n",
       "</div>"
      ],
      "text/plain": [
       "     0       1     2    3     4    5          6    7\n",
       "0  1.0    Male  44.0  1.0  28.0  0.0  > 2 Years  Yes\n",
       "1  2.0    Male  76.0  1.0   3.0  0.0   1-2 Year   No\n",
       "2  3.0    Male  47.0  1.0  28.0  0.0  > 2 Years  Yes\n",
       "3  4.0    Male  21.0  1.0  11.0  1.0   < 1 Year   No\n",
       "4  5.0  Female  29.0  1.0  41.0  1.0   < 1 Year   No"
      ]
     },
     "execution_count": 3,
     "metadata": {},
     "output_type": "execute_result"
    }
   ],
   "source": [
    "df.head()"
   ]
  },
  {
   "cell_type": "markdown",
   "id": "446c1481",
   "metadata": {},
   "source": [
    "## Add the column names to both datasets:"
   ]
  },
  {
   "cell_type": "markdown",
   "id": "be5bb31c",
   "metadata": {},
   "source": [
    "#### Column Name for customer details table:"
   ]
  },
  {
   "cell_type": "code",
   "execution_count": 4,
   "id": "1b176580",
   "metadata": {},
   "outputs": [],
   "source": [
    "df.columns=[\"customer_id\",\"Gender\",\"age\",\"driving_licence_present\",\"region_code\",\"previously_insured\",\"vechicle_age\",\"vechicle_damage\"]"
   ]
  },
  {
   "cell_type": "markdown",
   "id": "55475de7",
   "metadata": {},
   "source": [
    "####  Column Name for customer_policy table:"
   ]
  },
  {
   "cell_type": "code",
   "execution_count": 5,
   "id": "bafa7aaa",
   "metadata": {},
   "outputs": [],
   "source": [
    "df2.columns=[\"customer_id\",\"annual premium (in Rs)\",\"sales_channel_code\",\"vintage\",\"response\"]"
   ]
  },
  {
   "cell_type": "markdown",
   "id": "fac5b241",
   "metadata": {},
   "source": [
    "## 2. Checking and Cleaning Data Quality:"
   ]
  },
  {
   "cell_type": "markdown",
   "id": "ba0c45bd",
   "metadata": {},
   "source": [
    "### cleaning the data of customer details"
   ]
  },
  {
   "cell_type": "markdown",
   "id": "db4a579a",
   "metadata": {},
   "source": [
    "#### Generate a summary of count of all the null values column wise\n",
    "#### Drop Null values for customer_id because central tendencies for id’s is not feasible.\n",
    "#### Replace all null values for numeric columns by mean. \n",
    "#### Replace all null values for Categorical value by mode."
   ]
  },
  {
   "cell_type": "code",
   "execution_count": 6,
   "id": "692e225c",
   "metadata": {
    "scrolled": true
   },
   "outputs": [
    {
     "data": {
      "text/html": [
       "<div>\n",
       "<style scoped>\n",
       "    .dataframe tbody tr th:only-of-type {\n",
       "        vertical-align: middle;\n",
       "    }\n",
       "\n",
       "    .dataframe tbody tr th {\n",
       "        vertical-align: top;\n",
       "    }\n",
       "\n",
       "    .dataframe thead th {\n",
       "        text-align: right;\n",
       "    }\n",
       "</style>\n",
       "<table border=\"1\" class=\"dataframe\">\n",
       "  <thead>\n",
       "    <tr style=\"text-align: right;\">\n",
       "      <th></th>\n",
       "      <th>customer_id</th>\n",
       "      <th>Gender</th>\n",
       "      <th>age</th>\n",
       "      <th>driving_licence_present</th>\n",
       "      <th>region_code</th>\n",
       "      <th>previously_insured</th>\n",
       "      <th>vechicle_age</th>\n",
       "      <th>vechicle_damage</th>\n",
       "    </tr>\n",
       "  </thead>\n",
       "  <tbody>\n",
       "    <tr>\n",
       "      <th>0</th>\n",
       "      <td>False</td>\n",
       "      <td>False</td>\n",
       "      <td>False</td>\n",
       "      <td>False</td>\n",
       "      <td>False</td>\n",
       "      <td>False</td>\n",
       "      <td>False</td>\n",
       "      <td>False</td>\n",
       "    </tr>\n",
       "    <tr>\n",
       "      <th>1</th>\n",
       "      <td>False</td>\n",
       "      <td>False</td>\n",
       "      <td>False</td>\n",
       "      <td>False</td>\n",
       "      <td>False</td>\n",
       "      <td>False</td>\n",
       "      <td>False</td>\n",
       "      <td>False</td>\n",
       "    </tr>\n",
       "    <tr>\n",
       "      <th>2</th>\n",
       "      <td>False</td>\n",
       "      <td>False</td>\n",
       "      <td>False</td>\n",
       "      <td>False</td>\n",
       "      <td>False</td>\n",
       "      <td>False</td>\n",
       "      <td>False</td>\n",
       "      <td>False</td>\n",
       "    </tr>\n",
       "    <tr>\n",
       "      <th>3</th>\n",
       "      <td>False</td>\n",
       "      <td>False</td>\n",
       "      <td>False</td>\n",
       "      <td>False</td>\n",
       "      <td>False</td>\n",
       "      <td>False</td>\n",
       "      <td>False</td>\n",
       "      <td>False</td>\n",
       "    </tr>\n",
       "    <tr>\n",
       "      <th>4</th>\n",
       "      <td>False</td>\n",
       "      <td>False</td>\n",
       "      <td>False</td>\n",
       "      <td>False</td>\n",
       "      <td>False</td>\n",
       "      <td>False</td>\n",
       "      <td>False</td>\n",
       "      <td>False</td>\n",
       "    </tr>\n",
       "    <tr>\n",
       "      <th>...</th>\n",
       "      <td>...</td>\n",
       "      <td>...</td>\n",
       "      <td>...</td>\n",
       "      <td>...</td>\n",
       "      <td>...</td>\n",
       "      <td>...</td>\n",
       "      <td>...</td>\n",
       "      <td>...</td>\n",
       "    </tr>\n",
       "    <tr>\n",
       "      <th>381104</th>\n",
       "      <td>False</td>\n",
       "      <td>False</td>\n",
       "      <td>False</td>\n",
       "      <td>False</td>\n",
       "      <td>False</td>\n",
       "      <td>False</td>\n",
       "      <td>False</td>\n",
       "      <td>False</td>\n",
       "    </tr>\n",
       "    <tr>\n",
       "      <th>381105</th>\n",
       "      <td>False</td>\n",
       "      <td>False</td>\n",
       "      <td>False</td>\n",
       "      <td>False</td>\n",
       "      <td>False</td>\n",
       "      <td>False</td>\n",
       "      <td>False</td>\n",
       "      <td>False</td>\n",
       "    </tr>\n",
       "    <tr>\n",
       "      <th>381106</th>\n",
       "      <td>False</td>\n",
       "      <td>False</td>\n",
       "      <td>False</td>\n",
       "      <td>False</td>\n",
       "      <td>False</td>\n",
       "      <td>False</td>\n",
       "      <td>False</td>\n",
       "      <td>False</td>\n",
       "    </tr>\n",
       "    <tr>\n",
       "      <th>381107</th>\n",
       "      <td>False</td>\n",
       "      <td>False</td>\n",
       "      <td>False</td>\n",
       "      <td>False</td>\n",
       "      <td>False</td>\n",
       "      <td>False</td>\n",
       "      <td>False</td>\n",
       "      <td>False</td>\n",
       "    </tr>\n",
       "    <tr>\n",
       "      <th>381108</th>\n",
       "      <td>False</td>\n",
       "      <td>False</td>\n",
       "      <td>False</td>\n",
       "      <td>False</td>\n",
       "      <td>False</td>\n",
       "      <td>False</td>\n",
       "      <td>False</td>\n",
       "      <td>False</td>\n",
       "    </tr>\n",
       "  </tbody>\n",
       "</table>\n",
       "<p>381109 rows × 8 columns</p>\n",
       "</div>"
      ],
      "text/plain": [
       "        customer_id  Gender    age  driving_licence_present  region_code  \\\n",
       "0             False   False  False                    False        False   \n",
       "1             False   False  False                    False        False   \n",
       "2             False   False  False                    False        False   \n",
       "3             False   False  False                    False        False   \n",
       "4             False   False  False                    False        False   \n",
       "...             ...     ...    ...                      ...          ...   \n",
       "381104        False   False  False                    False        False   \n",
       "381105        False   False  False                    False        False   \n",
       "381106        False   False  False                    False        False   \n",
       "381107        False   False  False                    False        False   \n",
       "381108        False   False  False                    False        False   \n",
       "\n",
       "        previously_insured  vechicle_age  vechicle_damage  \n",
       "0                    False         False            False  \n",
       "1                    False         False            False  \n",
       "2                    False         False            False  \n",
       "3                    False         False            False  \n",
       "4                    False         False            False  \n",
       "...                    ...           ...              ...  \n",
       "381104               False         False            False  \n",
       "381105               False         False            False  \n",
       "381106               False         False            False  \n",
       "381107               False         False            False  \n",
       "381108               False         False            False  \n",
       "\n",
       "[381109 rows x 8 columns]"
      ]
     },
     "execution_count": 6,
     "metadata": {},
     "output_type": "execute_result"
    }
   ],
   "source": [
    "df.isnull()"
   ]
  },
  {
   "cell_type": "code",
   "execution_count": 7,
   "id": "85e2afdb",
   "metadata": {},
   "outputs": [
    {
     "name": "stdout",
     "output_type": "stream",
     "text": [
      "Total number of null values in the customer id is :  386\n"
     ]
    }
   ],
   "source": [
    "#null values in the customer_id\n",
    "print(\"Total number of null values in the customer id is : \",df[\"customer_id\"].isnull().sum())"
   ]
  },
  {
   "cell_type": "code",
   "execution_count": 8,
   "id": "8b7f7bf4",
   "metadata": {},
   "outputs": [],
   "source": [
    "#so there area 386 cutomer_id's are null so we are dropping all those customer id's\n",
    "df=df.dropna(subset=[\"customer_id\"])"
   ]
  },
  {
   "cell_type": "code",
   "execution_count": 9,
   "id": "0fd70690",
   "metadata": {},
   "outputs": [
    {
     "name": "stdout",
     "output_type": "stream",
     "text": [
      "Total number of null values in the customer id after dropping null values :  0\n"
     ]
    }
   ],
   "source": [
    "#after dropping null value in the id column of customer details \n",
    "print(\"Total number of null values in the customer id after dropping null values : \",df[\"customer_id\"].isnull().sum())"
   ]
  },
  {
   "cell_type": "code",
   "execution_count": 10,
   "id": "519c8b68",
   "metadata": {
    "scrolled": true
   },
   "outputs": [
    {
     "name": "stdout",
     "output_type": "stream",
     "text": [
      "<class 'pandas.core.frame.DataFrame'>\n",
      "Int64Index: 380723 entries, 0 to 381108\n",
      "Data columns (total 8 columns):\n",
      " #   Column                   Non-Null Count   Dtype  \n",
      "---  ------                   --------------   -----  \n",
      " 0   customer_id              380723 non-null  float64\n",
      " 1   Gender                   380355 non-null  object \n",
      " 2   age                      380357 non-null  float64\n",
      " 3   driving_licence_present  380331 non-null  float64\n",
      " 4   region_code              380332 non-null  float64\n",
      " 5   previously_insured       380342 non-null  float64\n",
      " 6   vechicle_age             380342 non-null  object \n",
      " 7   vechicle_damage          380317 non-null  object \n",
      "dtypes: float64(5), object(3)\n",
      "memory usage: 26.1+ MB\n"
     ]
    }
   ],
   "source": [
    "df.info()\n",
    "#checking datatypes"
   ]
  },
  {
   "cell_type": "code",
   "execution_count": 11,
   "id": "3f7ea4c4",
   "metadata": {},
   "outputs": [
    {
     "data": {
      "text/html": [
       "<div>\n",
       "<style scoped>\n",
       "    .dataframe tbody tr th:only-of-type {\n",
       "        vertical-align: middle;\n",
       "    }\n",
       "\n",
       "    .dataframe tbody tr th {\n",
       "        vertical-align: top;\n",
       "    }\n",
       "\n",
       "    .dataframe thead th {\n",
       "        text-align: right;\n",
       "    }\n",
       "</style>\n",
       "<table border=\"1\" class=\"dataframe\">\n",
       "  <thead>\n",
       "    <tr style=\"text-align: right;\">\n",
       "      <th></th>\n",
       "      <th>customer_id</th>\n",
       "      <th>Gender</th>\n",
       "      <th>age</th>\n",
       "      <th>driving_licence_present</th>\n",
       "      <th>region_code</th>\n",
       "      <th>previously_insured</th>\n",
       "      <th>vechicle_age</th>\n",
       "      <th>vechicle_damage</th>\n",
       "    </tr>\n",
       "  </thead>\n",
       "  <tbody>\n",
       "    <tr>\n",
       "      <th>0</th>\n",
       "      <td>1.0</td>\n",
       "      <td>Male</td>\n",
       "      <td>44.0</td>\n",
       "      <td>1.0</td>\n",
       "      <td>28.0</td>\n",
       "      <td>0.0</td>\n",
       "      <td>&gt; 2 Years</td>\n",
       "      <td>Yes</td>\n",
       "    </tr>\n",
       "    <tr>\n",
       "      <th>1</th>\n",
       "      <td>2.0</td>\n",
       "      <td>Male</td>\n",
       "      <td>76.0</td>\n",
       "      <td>1.0</td>\n",
       "      <td>3.0</td>\n",
       "      <td>0.0</td>\n",
       "      <td>1-2 Year</td>\n",
       "      <td>No</td>\n",
       "    </tr>\n",
       "    <tr>\n",
       "      <th>2</th>\n",
       "      <td>3.0</td>\n",
       "      <td>Male</td>\n",
       "      <td>47.0</td>\n",
       "      <td>1.0</td>\n",
       "      <td>28.0</td>\n",
       "      <td>0.0</td>\n",
       "      <td>&gt; 2 Years</td>\n",
       "      <td>Yes</td>\n",
       "    </tr>\n",
       "    <tr>\n",
       "      <th>3</th>\n",
       "      <td>4.0</td>\n",
       "      <td>Male</td>\n",
       "      <td>21.0</td>\n",
       "      <td>1.0</td>\n",
       "      <td>11.0</td>\n",
       "      <td>1.0</td>\n",
       "      <td>&lt; 1 Year</td>\n",
       "      <td>No</td>\n",
       "    </tr>\n",
       "    <tr>\n",
       "      <th>4</th>\n",
       "      <td>5.0</td>\n",
       "      <td>Female</td>\n",
       "      <td>29.0</td>\n",
       "      <td>1.0</td>\n",
       "      <td>41.0</td>\n",
       "      <td>1.0</td>\n",
       "      <td>&lt; 1 Year</td>\n",
       "      <td>No</td>\n",
       "    </tr>\n",
       "    <tr>\n",
       "      <th>...</th>\n",
       "      <td>...</td>\n",
       "      <td>...</td>\n",
       "      <td>...</td>\n",
       "      <td>...</td>\n",
       "      <td>...</td>\n",
       "      <td>...</td>\n",
       "      <td>...</td>\n",
       "      <td>...</td>\n",
       "    </tr>\n",
       "    <tr>\n",
       "      <th>381104</th>\n",
       "      <td>381105.0</td>\n",
       "      <td>Male</td>\n",
       "      <td>74.0</td>\n",
       "      <td>1.0</td>\n",
       "      <td>26.0</td>\n",
       "      <td>1.0</td>\n",
       "      <td>1-2 Year</td>\n",
       "      <td>No</td>\n",
       "    </tr>\n",
       "    <tr>\n",
       "      <th>381105</th>\n",
       "      <td>381106.0</td>\n",
       "      <td>Male</td>\n",
       "      <td>30.0</td>\n",
       "      <td>1.0</td>\n",
       "      <td>37.0</td>\n",
       "      <td>1.0</td>\n",
       "      <td>&lt; 1 Year</td>\n",
       "      <td>No</td>\n",
       "    </tr>\n",
       "    <tr>\n",
       "      <th>381106</th>\n",
       "      <td>381107.0</td>\n",
       "      <td>Male</td>\n",
       "      <td>21.0</td>\n",
       "      <td>1.0</td>\n",
       "      <td>30.0</td>\n",
       "      <td>1.0</td>\n",
       "      <td>&lt; 1 Year</td>\n",
       "      <td>No</td>\n",
       "    </tr>\n",
       "    <tr>\n",
       "      <th>381107</th>\n",
       "      <td>381108.0</td>\n",
       "      <td>Female</td>\n",
       "      <td>68.0</td>\n",
       "      <td>1.0</td>\n",
       "      <td>14.0</td>\n",
       "      <td>0.0</td>\n",
       "      <td>&gt; 2 Years</td>\n",
       "      <td>Yes</td>\n",
       "    </tr>\n",
       "    <tr>\n",
       "      <th>381108</th>\n",
       "      <td>381109.0</td>\n",
       "      <td>Male</td>\n",
       "      <td>46.0</td>\n",
       "      <td>1.0</td>\n",
       "      <td>29.0</td>\n",
       "      <td>0.0</td>\n",
       "      <td>1-2 Year</td>\n",
       "      <td>No</td>\n",
       "    </tr>\n",
       "  </tbody>\n",
       "</table>\n",
       "<p>380723 rows × 8 columns</p>\n",
       "</div>"
      ],
      "text/plain": [
       "        customer_id  Gender   age  driving_licence_present  region_code  \\\n",
       "0               1.0    Male  44.0                      1.0         28.0   \n",
       "1               2.0    Male  76.0                      1.0          3.0   \n",
       "2               3.0    Male  47.0                      1.0         28.0   \n",
       "3               4.0    Male  21.0                      1.0         11.0   \n",
       "4               5.0  Female  29.0                      1.0         41.0   \n",
       "...             ...     ...   ...                      ...          ...   \n",
       "381104     381105.0    Male  74.0                      1.0         26.0   \n",
       "381105     381106.0    Male  30.0                      1.0         37.0   \n",
       "381106     381107.0    Male  21.0                      1.0         30.0   \n",
       "381107     381108.0  Female  68.0                      1.0         14.0   \n",
       "381108     381109.0    Male  46.0                      1.0         29.0   \n",
       "\n",
       "        previously_insured vechicle_age vechicle_damage  \n",
       "0                      0.0    > 2 Years             Yes  \n",
       "1                      0.0     1-2 Year              No  \n",
       "2                      0.0    > 2 Years             Yes  \n",
       "3                      1.0     < 1 Year              No  \n",
       "4                      1.0     < 1 Year              No  \n",
       "...                    ...          ...             ...  \n",
       "381104                 1.0     1-2 Year              No  \n",
       "381105                 1.0     < 1 Year              No  \n",
       "381106                 1.0     < 1 Year              No  \n",
       "381107                 0.0    > 2 Years             Yes  \n",
       "381108                 0.0     1-2 Year              No  \n",
       "\n",
       "[380723 rows x 8 columns]"
      ]
     },
     "execution_count": 11,
     "metadata": {},
     "output_type": "execute_result"
    }
   ],
   "source": [
    "df"
   ]
  },
  {
   "cell_type": "markdown",
   "id": "91ff8d85",
   "metadata": {},
   "source": [
    "## here we are checking each column and adding appropriate values to null values."
   ]
  },
  {
   "cell_type": "markdown",
   "id": "063b9e02",
   "metadata": {},
   "source": [
    "### column:-age"
   ]
  },
  {
   "cell_type": "code",
   "execution_count": 12,
   "id": "111ba8c6",
   "metadata": {},
   "outputs": [
    {
     "name": "stdout",
     "output_type": "stream",
     "text": [
      "Total number of null values in the age column is :  366\n"
     ]
    }
   ],
   "source": [
    "print(\"Total number of null values in the age column is : \",df[\"age\"].isnull().sum())"
   ]
  },
  {
   "cell_type": "code",
   "execution_count": 13,
   "id": "9ebf7275",
   "metadata": {},
   "outputs": [],
   "source": [
    "df['age']=df[\"age\"].fillna(df[\"age\"].mean())"
   ]
  },
  {
   "cell_type": "code",
   "execution_count": 14,
   "id": "0343afb9",
   "metadata": {},
   "outputs": [
    {
     "name": "stdout",
     "output_type": "stream",
     "text": [
      "Total number of null values in the age column is :  0\n"
     ]
    }
   ],
   "source": [
    "print(\"Total number of null values in the age column is : \",df[\"age\"].isnull().sum())"
   ]
  },
  {
   "cell_type": "markdown",
   "id": "708e86ea",
   "metadata": {},
   "source": [
    "### column :- gender"
   ]
  },
  {
   "cell_type": "code",
   "execution_count": 15,
   "id": "da46bf56",
   "metadata": {},
   "outputs": [
    {
     "name": "stdout",
     "output_type": "stream",
     "text": [
      "Total number of null values in the gender column is :  368\n"
     ]
    }
   ],
   "source": [
    "print(\"Total number of null values in the gender column is : \",df[\"Gender\"].isnull().sum())"
   ]
  },
  {
   "cell_type": "code",
   "execution_count": 16,
   "id": "57df461f",
   "metadata": {},
   "outputs": [],
   "source": [
    "df[\"Gender\"]=df[\"Gender\"].fillna(df[\"Gender\"].mode()[0])"
   ]
  },
  {
   "cell_type": "code",
   "execution_count": 17,
   "id": "a9cc67e6",
   "metadata": {},
   "outputs": [
    {
     "name": "stdout",
     "output_type": "stream",
     "text": [
      "Total number of null values in the gender column is :  0\n"
     ]
    }
   ],
   "source": [
    "print(\"Total number of null values in the gender column is : \",df[\"Gender\"].isnull().sum())"
   ]
  },
  {
   "cell_type": "markdown",
   "id": "97032af4",
   "metadata": {},
   "source": [
    "### column:- driving_licence_present"
   ]
  },
  {
   "cell_type": "code",
   "execution_count": 18,
   "id": "e01dc03f",
   "metadata": {},
   "outputs": [
    {
     "name": "stdout",
     "output_type": "stream",
     "text": [
      "Total number of null values in the driving_licence_present column is :  392\n"
     ]
    }
   ],
   "source": [
    "print(\"Total number of null values in the driving_licence_present column is : \",df[\"driving_licence_present\"].isnull().sum())"
   ]
  },
  {
   "cell_type": "code",
   "execution_count": 19,
   "id": "122c8d4e",
   "metadata": {},
   "outputs": [],
   "source": [
    "df[\"driving_licence_present\"]=df[\"driving_licence_present\"].fillna(df[\"driving_licence_present\"].mode()[0])"
   ]
  },
  {
   "cell_type": "code",
   "execution_count": 20,
   "id": "3dcd85ad",
   "metadata": {},
   "outputs": [
    {
     "name": "stdout",
     "output_type": "stream",
     "text": [
      "Total number of null values in the driving_licence_present column is :  0\n"
     ]
    }
   ],
   "source": [
    "print(\"Total number of null values in the driving_licence_present column is : \",df[\"driving_licence_present\"].isnull().sum())"
   ]
  },
  {
   "cell_type": "markdown",
   "id": "71f69dce",
   "metadata": {},
   "source": [
    "### column:-region_code"
   ]
  },
  {
   "cell_type": "code",
   "execution_count": 21,
   "id": "c2be3bab",
   "metadata": {},
   "outputs": [
    {
     "name": "stdout",
     "output_type": "stream",
     "text": [
      "Total number of null values in the region_code column is :  391\n"
     ]
    }
   ],
   "source": [
    "print(\"Total number of null values in the region_code column is : \",df[\"region_code\"].isnull().sum())"
   ]
  },
  {
   "cell_type": "code",
   "execution_count": 22,
   "id": "533340ad",
   "metadata": {},
   "outputs": [],
   "source": [
    "df[\"region_code\"]=df[\"region_code\"].fillna(df[\"region_code\"].mode()[0])"
   ]
  },
  {
   "cell_type": "code",
   "execution_count": 23,
   "id": "da206f77",
   "metadata": {},
   "outputs": [
    {
     "name": "stdout",
     "output_type": "stream",
     "text": [
      "Total number of null values in the region_code column is :  0\n"
     ]
    }
   ],
   "source": [
    "print(\"Total number of null values in the region_code column is : \",df[\"region_code\"].isnull().sum())"
   ]
  },
  {
   "cell_type": "markdown",
   "id": "cb69f7b8",
   "metadata": {},
   "source": [
    "### column:- previously_insured"
   ]
  },
  {
   "cell_type": "code",
   "execution_count": 24,
   "id": "919de6a7",
   "metadata": {},
   "outputs": [
    {
     "name": "stdout",
     "output_type": "stream",
     "text": [
      "Total number of null values in the previously_insured column is :  381\n"
     ]
    }
   ],
   "source": [
    "print(\"Total number of null values in the previously_insured column is : \",df[\"previously_insured\"].isnull().sum())"
   ]
  },
  {
   "cell_type": "code",
   "execution_count": 25,
   "id": "08eb3440",
   "metadata": {},
   "outputs": [],
   "source": [
    "df[\"previously_insured\"]=df[\"previously_insured\"].fillna(df[\"previously_insured\"].mode()[0])"
   ]
  },
  {
   "cell_type": "code",
   "execution_count": 26,
   "id": "e36d3c42",
   "metadata": {},
   "outputs": [
    {
     "name": "stdout",
     "output_type": "stream",
     "text": [
      "Total number of null values in the previously_insured column is :  0\n"
     ]
    }
   ],
   "source": [
    "print(\"Total number of null values in the previously_insured column is : \",df[\"previously_insured\"].isnull().sum())"
   ]
  },
  {
   "cell_type": "markdown",
   "id": "a80bfdd3",
   "metadata": {},
   "source": [
    "### column:- vechicle_age"
   ]
  },
  {
   "cell_type": "code",
   "execution_count": 27,
   "id": "e0f6c19b",
   "metadata": {},
   "outputs": [
    {
     "name": "stdout",
     "output_type": "stream",
     "text": [
      "Total number of null values in the vechicle_age column is :  381\n"
     ]
    }
   ],
   "source": [
    "print(\"Total number of null values in the vechicle_age column is : \",df[\"vechicle_age\"].isnull().sum())"
   ]
  },
  {
   "cell_type": "code",
   "execution_count": 28,
   "id": "a1ad207e",
   "metadata": {},
   "outputs": [],
   "source": [
    "df[\"vechicle_age\"]=df[\"vechicle_age\"].fillna(df[\"vechicle_age\"].mode()[0])"
   ]
  },
  {
   "cell_type": "code",
   "execution_count": 29,
   "id": "95f7c571",
   "metadata": {},
   "outputs": [
    {
     "name": "stdout",
     "output_type": "stream",
     "text": [
      "Total number of null values in the vechicle_age column is :  0\n"
     ]
    }
   ],
   "source": [
    "print(\"Total number of null values in the vechicle_age column is : \",df[\"vechicle_age\"].isnull().sum())"
   ]
  },
  {
   "cell_type": "markdown",
   "id": "fc84a416",
   "metadata": {},
   "source": [
    "### column:- vechicle_damage"
   ]
  },
  {
   "cell_type": "code",
   "execution_count": 30,
   "id": "6ceff562",
   "metadata": {},
   "outputs": [
    {
     "name": "stdout",
     "output_type": "stream",
     "text": [
      "Total number of null values in the vechicle_damage column is :  406\n"
     ]
    }
   ],
   "source": [
    "print(\"Total number of null values in the vechicle_damage column is : \",df[\"vechicle_damage\"].isnull().sum())"
   ]
  },
  {
   "cell_type": "code",
   "execution_count": 31,
   "id": "7d71eab6",
   "metadata": {},
   "outputs": [],
   "source": [
    "df[\"vechicle_damage\"]=df[\"vechicle_damage\"].fillna(df[\"vechicle_damage\"].mode()[0])"
   ]
  },
  {
   "cell_type": "code",
   "execution_count": 32,
   "id": "3cf39d0b",
   "metadata": {},
   "outputs": [
    {
     "name": "stdout",
     "output_type": "stream",
     "text": [
      "Total number of null values in the vechicle_damage column is :  0\n"
     ]
    }
   ],
   "source": [
    "print(\"Total number of null values in the vechicle_damage column is : \",df[\"vechicle_damage\"].isnull().sum())"
   ]
  },
  {
   "cell_type": "markdown",
   "id": "90943893",
   "metadata": {},
   "source": [
    "## cleaning the data of customer policy details"
   ]
  },
  {
   "cell_type": "code",
   "execution_count": 33,
   "id": "5788daef",
   "metadata": {},
   "outputs": [
    {
     "name": "stdout",
     "output_type": "stream",
     "text": [
      "<class 'pandas.core.frame.DataFrame'>\n",
      "RangeIndex: 381109 entries, 0 to 381108\n",
      "Data columns (total 5 columns):\n",
      " #   Column                  Non-Null Count   Dtype  \n",
      "---  ------                  --------------   -----  \n",
      " 0   customer_id             380722 non-null  float64\n",
      " 1   annual premium (in Rs)  380763 non-null  float64\n",
      " 2   sales_channel_code      380709 non-null  float64\n",
      " 3   vintage                 380721 non-null  float64\n",
      " 4   response                380748 non-null  float64\n",
      "dtypes: float64(5)\n",
      "memory usage: 14.5 MB\n"
     ]
    }
   ],
   "source": [
    "df2.info()"
   ]
  },
  {
   "cell_type": "markdown",
   "id": "d5722b1c",
   "metadata": {},
   "source": [
    "### columns:- customer_id "
   ]
  },
  {
   "cell_type": "code",
   "execution_count": 34,
   "id": "bc915cec",
   "metadata": {},
   "outputs": [
    {
     "name": "stdout",
     "output_type": "stream",
     "text": [
      "Total number of null values in the customer_id column is :  387\n"
     ]
    }
   ],
   "source": [
    "print(\"Total number of null values in the customer_id column is : \",df2[\"customer_id\"].isnull().sum())"
   ]
  },
  {
   "cell_type": "code",
   "execution_count": 35,
   "id": "67d46995",
   "metadata": {},
   "outputs": [],
   "source": [
    "#dropping all the ids which have null values\n",
    "df2=df2.dropna(subset=[\"customer_id\"])"
   ]
  },
  {
   "cell_type": "code",
   "execution_count": 36,
   "id": "ef1b3fd9",
   "metadata": {},
   "outputs": [
    {
     "name": "stdout",
     "output_type": "stream",
     "text": [
      "Total number of null values after removing the customer_id column is :  0\n"
     ]
    }
   ],
   "source": [
    "print(\"Total number of null values after removing the customer_id column is : \",df2[\"customer_id\"].isnull().sum())"
   ]
  },
  {
   "cell_type": "markdown",
   "id": "f2af67ed",
   "metadata": {},
   "source": [
    "### column:- annual_premium"
   ]
  },
  {
   "cell_type": "code",
   "execution_count": 37,
   "id": "05063e52",
   "metadata": {},
   "outputs": [
    {
     "name": "stdout",
     "output_type": "stream",
     "text": [
      "Total number of null values in the annual_premium column is :  344\n"
     ]
    }
   ],
   "source": [
    "print(\"Total number of null values in the annual_premium column is : \",df2[\"annual premium (in Rs)\"].isnull().sum())"
   ]
  },
  {
   "cell_type": "code",
   "execution_count": 38,
   "id": "14383f9e",
   "metadata": {},
   "outputs": [],
   "source": [
    "df2[\"annual premium (in Rs)\"]=df2[\"annual premium (in Rs)\"].fillna(df2[\"annual premium (in Rs)\"].mean())"
   ]
  },
  {
   "cell_type": "code",
   "execution_count": 39,
   "id": "c739f4ea",
   "metadata": {},
   "outputs": [
    {
     "name": "stdout",
     "output_type": "stream",
     "text": [
      "Total number of null values in the annual_premium column is :  0\n"
     ]
    }
   ],
   "source": [
    "print(\"Total number of null values in the annual_premium column is : \",df2[\"annual premium (in Rs)\"].isnull().sum())"
   ]
  },
  {
   "cell_type": "markdown",
   "id": "79f97cfd",
   "metadata": {},
   "source": [
    "### column:- sales_channel_code"
   ]
  },
  {
   "cell_type": "code",
   "execution_count": 40,
   "id": "5642e7c5",
   "metadata": {},
   "outputs": [
    {
     "name": "stdout",
     "output_type": "stream",
     "text": [
      "Total number of null values in the sales_channel_code column is :  400\n"
     ]
    }
   ],
   "source": [
    "print(\"Total number of null values in the sales_channel_code column is : \",df2[\"sales_channel_code\"].isnull().sum())"
   ]
  },
  {
   "cell_type": "code",
   "execution_count": 41,
   "id": "e792314b",
   "metadata": {},
   "outputs": [],
   "source": [
    "df2[\"sales_channel_code\"]=df2[\"sales_channel_code\"].fillna(df2[\"sales_channel_code\"].mean())"
   ]
  },
  {
   "cell_type": "code",
   "execution_count": 42,
   "id": "eb9a33b2",
   "metadata": {},
   "outputs": [
    {
     "name": "stdout",
     "output_type": "stream",
     "text": [
      "Total number of null values in the sales_channel_code column is :  0\n"
     ]
    }
   ],
   "source": [
    "print(\"Total number of null values in the sales_channel_code column is : \",df2[\"sales_channel_code\"].isnull().sum())"
   ]
  },
  {
   "cell_type": "markdown",
   "id": "5a14b0d5",
   "metadata": {},
   "source": [
    "### column:- vintage"
   ]
  },
  {
   "cell_type": "code",
   "execution_count": 43,
   "id": "1facc4a4",
   "metadata": {},
   "outputs": [
    {
     "name": "stdout",
     "output_type": "stream",
     "text": [
      "Total number of null values in the vintage column is :  388\n"
     ]
    }
   ],
   "source": [
    "print(\"Total number of null values in the vintage column is : \",df2[\"vintage\"].isnull().sum())"
   ]
  },
  {
   "cell_type": "code",
   "execution_count": 44,
   "id": "dfa3ce43",
   "metadata": {},
   "outputs": [],
   "source": [
    "df2[\"vintage\"]=df2[\"vintage\"].fillna(df2[\"vintage\"].mean())"
   ]
  },
  {
   "cell_type": "code",
   "execution_count": 45,
   "id": "bcb5d860",
   "metadata": {},
   "outputs": [
    {
     "name": "stdout",
     "output_type": "stream",
     "text": [
      "Total number of null values in the vintage column is :  0\n"
     ]
    }
   ],
   "source": [
    "print(\"Total number of null values in the vintage column is : \",df2[\"vintage\"].isnull().sum())"
   ]
  },
  {
   "cell_type": "markdown",
   "id": "fc8f0b60",
   "metadata": {},
   "source": [
    "### column:- response"
   ]
  },
  {
   "cell_type": "code",
   "execution_count": 46,
   "id": "d12de080",
   "metadata": {},
   "outputs": [
    {
     "name": "stdout",
     "output_type": "stream",
     "text": [
      "Total number of null values in the response column is :  361\n"
     ]
    }
   ],
   "source": [
    "print(\"Total number of null values in the response column is : \",df2[\"response\"].isnull().sum())"
   ]
  },
  {
   "cell_type": "code",
   "execution_count": 47,
   "id": "819bd261",
   "metadata": {},
   "outputs": [],
   "source": [
    "df2[\"response\"]=df2[\"response\"].fillna(df2[\"response\"].mode()[0])"
   ]
  },
  {
   "cell_type": "code",
   "execution_count": 48,
   "id": "c6b20761",
   "metadata": {},
   "outputs": [
    {
     "name": "stdout",
     "output_type": "stream",
     "text": [
      "Total number of null values in the response column is :  0\n"
     ]
    }
   ],
   "source": [
    "print(\"Total number of null values in the response column is : \",df2[\"response\"].isnull().sum())"
   ]
  },
  {
   "cell_type": "markdown",
   "id": "b570a1c5",
   "metadata": {},
   "source": [
    "## outliers checking for customer detail"
   ]
  },
  {
   "cell_type": "markdown",
   "id": "5db9ab5e",
   "metadata": {},
   "source": [
    "### Replace all outlier values for numeric columns by mean. "
   ]
  },
  {
   "cell_type": "code",
   "execution_count": 49,
   "id": "36d95f71",
   "metadata": {},
   "outputs": [
    {
     "data": {
      "text/html": [
       "<div>\n",
       "<style scoped>\n",
       "    .dataframe tbody tr th:only-of-type {\n",
       "        vertical-align: middle;\n",
       "    }\n",
       "\n",
       "    .dataframe tbody tr th {\n",
       "        vertical-align: top;\n",
       "    }\n",
       "\n",
       "    .dataframe thead th {\n",
       "        text-align: right;\n",
       "    }\n",
       "</style>\n",
       "<table border=\"1\" class=\"dataframe\">\n",
       "  <thead>\n",
       "    <tr style=\"text-align: right;\">\n",
       "      <th></th>\n",
       "      <th>customer_id</th>\n",
       "      <th>age</th>\n",
       "      <th>driving_licence_present</th>\n",
       "      <th>region_code</th>\n",
       "      <th>previously_insured</th>\n",
       "    </tr>\n",
       "  </thead>\n",
       "  <tbody>\n",
       "    <tr>\n",
       "      <th>count</th>\n",
       "      <td>380723.000000</td>\n",
       "      <td>380723.000000</td>\n",
       "      <td>380723.000000</td>\n",
       "      <td>380723.000000</td>\n",
       "      <td>380723.000000</td>\n",
       "    </tr>\n",
       "    <tr>\n",
       "      <th>mean</th>\n",
       "      <td>190548.776244</td>\n",
       "      <td>38.822788</td>\n",
       "      <td>0.997870</td>\n",
       "      <td>26.391090</td>\n",
       "      <td>0.457800</td>\n",
       "    </tr>\n",
       "    <tr>\n",
       "      <th>std</th>\n",
       "      <td>110016.805160</td>\n",
       "      <td>15.504826</td>\n",
       "      <td>0.046105</td>\n",
       "      <td>13.223772</td>\n",
       "      <td>0.498217</td>\n",
       "    </tr>\n",
       "    <tr>\n",
       "      <th>min</th>\n",
       "      <td>1.000000</td>\n",
       "      <td>20.000000</td>\n",
       "      <td>0.000000</td>\n",
       "      <td>0.000000</td>\n",
       "      <td>0.000000</td>\n",
       "    </tr>\n",
       "    <tr>\n",
       "      <th>25%</th>\n",
       "      <td>95269.500000</td>\n",
       "      <td>25.000000</td>\n",
       "      <td>1.000000</td>\n",
       "      <td>15.000000</td>\n",
       "      <td>0.000000</td>\n",
       "    </tr>\n",
       "    <tr>\n",
       "      <th>50%</th>\n",
       "      <td>190543.000000</td>\n",
       "      <td>36.000000</td>\n",
       "      <td>1.000000</td>\n",
       "      <td>28.000000</td>\n",
       "      <td>0.000000</td>\n",
       "    </tr>\n",
       "    <tr>\n",
       "      <th>75%</th>\n",
       "      <td>285822.500000</td>\n",
       "      <td>49.000000</td>\n",
       "      <td>1.000000</td>\n",
       "      <td>35.000000</td>\n",
       "      <td>1.000000</td>\n",
       "    </tr>\n",
       "    <tr>\n",
       "      <th>max</th>\n",
       "      <td>381109.000000</td>\n",
       "      <td>85.000000</td>\n",
       "      <td>1.000000</td>\n",
       "      <td>52.000000</td>\n",
       "      <td>1.000000</td>\n",
       "    </tr>\n",
       "  </tbody>\n",
       "</table>\n",
       "</div>"
      ],
      "text/plain": [
       "         customer_id            age  driving_licence_present    region_code  \\\n",
       "count  380723.000000  380723.000000            380723.000000  380723.000000   \n",
       "mean   190548.776244      38.822788                 0.997870      26.391090   \n",
       "std    110016.805160      15.504826                 0.046105      13.223772   \n",
       "min         1.000000      20.000000                 0.000000       0.000000   \n",
       "25%     95269.500000      25.000000                 1.000000      15.000000   \n",
       "50%    190543.000000      36.000000                 1.000000      28.000000   \n",
       "75%    285822.500000      49.000000                 1.000000      35.000000   \n",
       "max    381109.000000      85.000000                 1.000000      52.000000   \n",
       "\n",
       "       previously_insured  \n",
       "count       380723.000000  \n",
       "mean             0.457800  \n",
       "std              0.498217  \n",
       "min              0.000000  \n",
       "25%              0.000000  \n",
       "50%              0.000000  \n",
       "75%              1.000000  \n",
       "max              1.000000  "
      ]
     },
     "execution_count": 49,
     "metadata": {},
     "output_type": "execute_result"
    }
   ],
   "source": [
    "df.describe()"
   ]
  },
  {
   "cell_type": "code",
   "execution_count": 50,
   "id": "c40faf54",
   "metadata": {},
   "outputs": [
    {
     "data": {
      "text/html": [
       "<div>\n",
       "<style scoped>\n",
       "    .dataframe tbody tr th:only-of-type {\n",
       "        vertical-align: middle;\n",
       "    }\n",
       "\n",
       "    .dataframe tbody tr th {\n",
       "        vertical-align: top;\n",
       "    }\n",
       "\n",
       "    .dataframe thead th {\n",
       "        text-align: right;\n",
       "    }\n",
       "</style>\n",
       "<table border=\"1\" class=\"dataframe\">\n",
       "  <thead>\n",
       "    <tr style=\"text-align: right;\">\n",
       "      <th></th>\n",
       "      <th>customer_id</th>\n",
       "      <th>Gender</th>\n",
       "      <th>age</th>\n",
       "      <th>driving_licence_present</th>\n",
       "      <th>region_code</th>\n",
       "      <th>previously_insured</th>\n",
       "      <th>vechicle_age</th>\n",
       "      <th>vechicle_damage</th>\n",
       "    </tr>\n",
       "  </thead>\n",
       "  <tbody>\n",
       "    <tr>\n",
       "      <th>0</th>\n",
       "      <td>1.0</td>\n",
       "      <td>Male</td>\n",
       "      <td>44.0</td>\n",
       "      <td>1.0</td>\n",
       "      <td>28.0</td>\n",
       "      <td>0.0</td>\n",
       "      <td>&gt; 2 Years</td>\n",
       "      <td>Yes</td>\n",
       "    </tr>\n",
       "    <tr>\n",
       "      <th>1</th>\n",
       "      <td>2.0</td>\n",
       "      <td>Male</td>\n",
       "      <td>76.0</td>\n",
       "      <td>1.0</td>\n",
       "      <td>3.0</td>\n",
       "      <td>0.0</td>\n",
       "      <td>1-2 Year</td>\n",
       "      <td>No</td>\n",
       "    </tr>\n",
       "    <tr>\n",
       "      <th>2</th>\n",
       "      <td>3.0</td>\n",
       "      <td>Male</td>\n",
       "      <td>47.0</td>\n",
       "      <td>1.0</td>\n",
       "      <td>28.0</td>\n",
       "      <td>0.0</td>\n",
       "      <td>&gt; 2 Years</td>\n",
       "      <td>Yes</td>\n",
       "    </tr>\n",
       "    <tr>\n",
       "      <th>3</th>\n",
       "      <td>4.0</td>\n",
       "      <td>Male</td>\n",
       "      <td>21.0</td>\n",
       "      <td>1.0</td>\n",
       "      <td>11.0</td>\n",
       "      <td>1.0</td>\n",
       "      <td>&lt; 1 Year</td>\n",
       "      <td>No</td>\n",
       "    </tr>\n",
       "    <tr>\n",
       "      <th>4</th>\n",
       "      <td>5.0</td>\n",
       "      <td>Female</td>\n",
       "      <td>29.0</td>\n",
       "      <td>1.0</td>\n",
       "      <td>41.0</td>\n",
       "      <td>1.0</td>\n",
       "      <td>&lt; 1 Year</td>\n",
       "      <td>No</td>\n",
       "    </tr>\n",
       "    <tr>\n",
       "      <th>...</th>\n",
       "      <td>...</td>\n",
       "      <td>...</td>\n",
       "      <td>...</td>\n",
       "      <td>...</td>\n",
       "      <td>...</td>\n",
       "      <td>...</td>\n",
       "      <td>...</td>\n",
       "      <td>...</td>\n",
       "    </tr>\n",
       "    <tr>\n",
       "      <th>381104</th>\n",
       "      <td>381105.0</td>\n",
       "      <td>Male</td>\n",
       "      <td>74.0</td>\n",
       "      <td>1.0</td>\n",
       "      <td>26.0</td>\n",
       "      <td>1.0</td>\n",
       "      <td>1-2 Year</td>\n",
       "      <td>No</td>\n",
       "    </tr>\n",
       "    <tr>\n",
       "      <th>381105</th>\n",
       "      <td>381106.0</td>\n",
       "      <td>Male</td>\n",
       "      <td>30.0</td>\n",
       "      <td>1.0</td>\n",
       "      <td>37.0</td>\n",
       "      <td>1.0</td>\n",
       "      <td>&lt; 1 Year</td>\n",
       "      <td>No</td>\n",
       "    </tr>\n",
       "    <tr>\n",
       "      <th>381106</th>\n",
       "      <td>381107.0</td>\n",
       "      <td>Male</td>\n",
       "      <td>21.0</td>\n",
       "      <td>1.0</td>\n",
       "      <td>30.0</td>\n",
       "      <td>1.0</td>\n",
       "      <td>&lt; 1 Year</td>\n",
       "      <td>No</td>\n",
       "    </tr>\n",
       "    <tr>\n",
       "      <th>381107</th>\n",
       "      <td>381108.0</td>\n",
       "      <td>Female</td>\n",
       "      <td>68.0</td>\n",
       "      <td>1.0</td>\n",
       "      <td>14.0</td>\n",
       "      <td>0.0</td>\n",
       "      <td>&gt; 2 Years</td>\n",
       "      <td>Yes</td>\n",
       "    </tr>\n",
       "    <tr>\n",
       "      <th>381108</th>\n",
       "      <td>381109.0</td>\n",
       "      <td>Male</td>\n",
       "      <td>46.0</td>\n",
       "      <td>1.0</td>\n",
       "      <td>29.0</td>\n",
       "      <td>0.0</td>\n",
       "      <td>1-2 Year</td>\n",
       "      <td>No</td>\n",
       "    </tr>\n",
       "  </tbody>\n",
       "</table>\n",
       "<p>380723 rows × 8 columns</p>\n",
       "</div>"
      ],
      "text/plain": [
       "        customer_id  Gender   age  driving_licence_present  region_code  \\\n",
       "0               1.0    Male  44.0                      1.0         28.0   \n",
       "1               2.0    Male  76.0                      1.0          3.0   \n",
       "2               3.0    Male  47.0                      1.0         28.0   \n",
       "3               4.0    Male  21.0                      1.0         11.0   \n",
       "4               5.0  Female  29.0                      1.0         41.0   \n",
       "...             ...     ...   ...                      ...          ...   \n",
       "381104     381105.0    Male  74.0                      1.0         26.0   \n",
       "381105     381106.0    Male  30.0                      1.0         37.0   \n",
       "381106     381107.0    Male  21.0                      1.0         30.0   \n",
       "381107     381108.0  Female  68.0                      1.0         14.0   \n",
       "381108     381109.0    Male  46.0                      1.0         29.0   \n",
       "\n",
       "        previously_insured vechicle_age vechicle_damage  \n",
       "0                      0.0    > 2 Years             Yes  \n",
       "1                      0.0     1-2 Year              No  \n",
       "2                      0.0    > 2 Years             Yes  \n",
       "3                      1.0     < 1 Year              No  \n",
       "4                      1.0     < 1 Year              No  \n",
       "...                    ...          ...             ...  \n",
       "381104                 1.0     1-2 Year              No  \n",
       "381105                 1.0     < 1 Year              No  \n",
       "381106                 1.0     < 1 Year              No  \n",
       "381107                 0.0    > 2 Years             Yes  \n",
       "381108                 0.0     1-2 Year              No  \n",
       "\n",
       "[380723 rows x 8 columns]"
      ]
     },
     "execution_count": 50,
     "metadata": {},
     "output_type": "execute_result"
    }
   ],
   "source": [
    "df"
   ]
  },
  {
   "cell_type": "markdown",
   "id": "ad762e4d",
   "metadata": {},
   "source": [
    "### column:- age"
   ]
  },
  {
   "cell_type": "code",
   "execution_count": 51,
   "id": "6d22d23f",
   "metadata": {},
   "outputs": [],
   "source": [
    "Q1=df.describe().loc[\"25%\",\"age\"]\n",
    "Q3=df.describe().loc[\"75%\",\"age\"]"
   ]
  },
  {
   "cell_type": "code",
   "execution_count": 52,
   "id": "265d9c76",
   "metadata": {},
   "outputs": [],
   "source": [
    "IQR=Q3-Q1"
   ]
  },
  {
   "cell_type": "code",
   "execution_count": 53,
   "id": "b006fd89",
   "metadata": {},
   "outputs": [
    {
     "data": {
      "text/plain": [
       "24.0"
      ]
     },
     "execution_count": 53,
     "metadata": {},
     "output_type": "execute_result"
    }
   ],
   "source": [
    "IQR"
   ]
  },
  {
   "cell_type": "code",
   "execution_count": 54,
   "id": "ee1cb05b",
   "metadata": {},
   "outputs": [
    {
     "name": "stdout",
     "output_type": "stream",
     "text": [
      "0\n",
      "0\n"
     ]
    }
   ],
   "source": [
    "print(df.loc[df[\"age\"]<(Q1-IQR*1.5),\"age\"].count())\n",
    "print(df.loc[df[\"age\"]>(Q3+IQR*1.5),\"age\"].count())"
   ]
  },
  {
   "cell_type": "markdown",
   "id": "db6212b7",
   "metadata": {},
   "source": [
    "So there are no outliers in age column of customer_detail"
   ]
  },
  {
   "cell_type": "markdown",
   "id": "41857483",
   "metadata": {},
   "source": [
    "### column:- driving_licence_present"
   ]
  },
  {
   "cell_type": "code",
   "execution_count": 55,
   "id": "6416e50d",
   "metadata": {},
   "outputs": [],
   "source": [
    "Q1=df.describe().loc[\"25%\",\"driving_licence_present\"]\n",
    "Q3=df.describe().loc[\"75%\",\"driving_licence_present\"]"
   ]
  },
  {
   "cell_type": "code",
   "execution_count": 56,
   "id": "2267c5d3",
   "metadata": {},
   "outputs": [
    {
     "data": {
      "text/plain": [
       "0.0"
      ]
     },
     "execution_count": 56,
     "metadata": {},
     "output_type": "execute_result"
    }
   ],
   "source": [
    "IQR=Q3-Q1\n",
    "IQR"
   ]
  },
  {
   "cell_type": "code",
   "execution_count": 57,
   "id": "9c58dcbd",
   "metadata": {},
   "outputs": [
    {
     "name": "stdout",
     "output_type": "stream",
     "text": [
      "811\n",
      "0\n"
     ]
    }
   ],
   "source": [
    "print(df.loc[df[\"driving_licence_present\"]<(Q1-IQR*1.5),\"driving_licence_present\"].count())\n",
    "print(df.loc[df[\"driving_licence_present\"]>(Q3+IQR*1.5),\"driving_licence_present\"].count())"
   ]
  },
  {
   "cell_type": "markdown",
   "id": "f4710999",
   "metadata": {},
   "source": [
    "### column:- region_code"
   ]
  },
  {
   "cell_type": "code",
   "execution_count": 58,
   "id": "48c12f14",
   "metadata": {},
   "outputs": [],
   "source": [
    "Q1=df.describe().loc[\"25%\",\"region_code\"]\n",
    "Q3=df.describe().loc[\"75%\",\"region_code\"]"
   ]
  },
  {
   "cell_type": "code",
   "execution_count": 59,
   "id": "05d54746",
   "metadata": {},
   "outputs": [
    {
     "data": {
      "text/plain": [
       "20.0"
      ]
     },
     "execution_count": 59,
     "metadata": {},
     "output_type": "execute_result"
    }
   ],
   "source": [
    "IQR=Q3-Q1\n",
    "IQR"
   ]
  },
  {
   "cell_type": "code",
   "execution_count": 60,
   "id": "b3bdd9b3",
   "metadata": {},
   "outputs": [
    {
     "name": "stdout",
     "output_type": "stream",
     "text": [
      "0\n",
      "0\n"
     ]
    }
   ],
   "source": [
    "print(df.loc[df[\"region_code\"]<(Q1-IQR*1.5),\"region_code\"].count())\n",
    "print(df.loc[df[\"region_code\"]>(Q3+IQR*1.5),\"region_code\"].count())"
   ]
  },
  {
   "cell_type": "markdown",
   "id": "9ee13ea6",
   "metadata": {},
   "source": [
    "### column:- previously_insured"
   ]
  },
  {
   "cell_type": "code",
   "execution_count": 61,
   "id": "7d83ad18",
   "metadata": {},
   "outputs": [],
   "source": [
    "Q1=df.describe().loc[\"25%\",\"previously_insured\"]\n",
    "Q3=df.describe().loc[\"75%\",\"previously_insured\"]"
   ]
  },
  {
   "cell_type": "code",
   "execution_count": 62,
   "id": "395873a4",
   "metadata": {},
   "outputs": [
    {
     "data": {
      "text/plain": [
       "1.0"
      ]
     },
     "execution_count": 62,
     "metadata": {},
     "output_type": "execute_result"
    }
   ],
   "source": [
    "IQR=Q3-Q1\n",
    "IQR"
   ]
  },
  {
   "cell_type": "code",
   "execution_count": 63,
   "id": "fe95e4de",
   "metadata": {},
   "outputs": [
    {
     "name": "stdout",
     "output_type": "stream",
     "text": [
      "0\n",
      "0\n"
     ]
    }
   ],
   "source": [
    "print(df.loc[df[\"previously_insured\"]<(Q1-IQR*1.5),\"previously_insured\"].count())\n",
    "print(df.loc[df[\"previously_insured\"]>(Q3+IQR*1.5),\"previously_insured\"].count())"
   ]
  },
  {
   "cell_type": "markdown",
   "id": "afd11ae2",
   "metadata": {},
   "source": [
    "## outliers checking for customer policy detail"
   ]
  },
  {
   "cell_type": "code",
   "execution_count": 64,
   "id": "5f05ccd2",
   "metadata": {},
   "outputs": [
    {
     "data": {
      "text/html": [
       "<div>\n",
       "<style scoped>\n",
       "    .dataframe tbody tr th:only-of-type {\n",
       "        vertical-align: middle;\n",
       "    }\n",
       "\n",
       "    .dataframe tbody tr th {\n",
       "        vertical-align: top;\n",
       "    }\n",
       "\n",
       "    .dataframe thead th {\n",
       "        text-align: right;\n",
       "    }\n",
       "</style>\n",
       "<table border=\"1\" class=\"dataframe\">\n",
       "  <thead>\n",
       "    <tr style=\"text-align: right;\">\n",
       "      <th></th>\n",
       "      <th>customer_id</th>\n",
       "      <th>annual premium (in Rs)</th>\n",
       "      <th>sales_channel_code</th>\n",
       "      <th>vintage</th>\n",
       "      <th>response</th>\n",
       "    </tr>\n",
       "  </thead>\n",
       "  <tbody>\n",
       "    <tr>\n",
       "      <th>count</th>\n",
       "      <td>380722.000000</td>\n",
       "      <td>380722.000000</td>\n",
       "      <td>380722.000000</td>\n",
       "      <td>380722.000000</td>\n",
       "      <td>380722.000000</td>\n",
       "    </tr>\n",
       "    <tr>\n",
       "      <th>mean</th>\n",
       "      <td>190547.491663</td>\n",
       "      <td>30563.999774</td>\n",
       "      <td>112.036687</td>\n",
       "      <td>154.347192</td>\n",
       "      <td>0.122410</td>\n",
       "    </tr>\n",
       "    <tr>\n",
       "      <th>std</th>\n",
       "      <td>110013.824148</td>\n",
       "      <td>17190.147550</td>\n",
       "      <td>54.177046</td>\n",
       "      <td>83.628096</td>\n",
       "      <td>0.327759</td>\n",
       "    </tr>\n",
       "    <tr>\n",
       "      <th>min</th>\n",
       "      <td>1.000000</td>\n",
       "      <td>2630.000000</td>\n",
       "      <td>1.000000</td>\n",
       "      <td>10.000000</td>\n",
       "      <td>0.000000</td>\n",
       "    </tr>\n",
       "    <tr>\n",
       "      <th>25%</th>\n",
       "      <td>95276.250000</td>\n",
       "      <td>24416.000000</td>\n",
       "      <td>29.000000</td>\n",
       "      <td>82.000000</td>\n",
       "      <td>0.000000</td>\n",
       "    </tr>\n",
       "    <tr>\n",
       "      <th>50%</th>\n",
       "      <td>190536.500000</td>\n",
       "      <td>31656.000000</td>\n",
       "      <td>131.000000</td>\n",
       "      <td>154.000000</td>\n",
       "      <td>0.000000</td>\n",
       "    </tr>\n",
       "    <tr>\n",
       "      <th>75%</th>\n",
       "      <td>285818.750000</td>\n",
       "      <td>39391.750000</td>\n",
       "      <td>152.000000</td>\n",
       "      <td>227.000000</td>\n",
       "      <td>0.000000</td>\n",
       "    </tr>\n",
       "    <tr>\n",
       "      <th>max</th>\n",
       "      <td>381109.000000</td>\n",
       "      <td>540165.000000</td>\n",
       "      <td>163.000000</td>\n",
       "      <td>299.000000</td>\n",
       "      <td>1.000000</td>\n",
       "    </tr>\n",
       "  </tbody>\n",
       "</table>\n",
       "</div>"
      ],
      "text/plain": [
       "         customer_id  annual premium (in Rs)  sales_channel_code  \\\n",
       "count  380722.000000           380722.000000       380722.000000   \n",
       "mean   190547.491663            30563.999774          112.036687   \n",
       "std    110013.824148            17190.147550           54.177046   \n",
       "min         1.000000             2630.000000            1.000000   \n",
       "25%     95276.250000            24416.000000           29.000000   \n",
       "50%    190536.500000            31656.000000          131.000000   \n",
       "75%    285818.750000            39391.750000          152.000000   \n",
       "max    381109.000000           540165.000000          163.000000   \n",
       "\n",
       "             vintage       response  \n",
       "count  380722.000000  380722.000000  \n",
       "mean      154.347192       0.122410  \n",
       "std        83.628096       0.327759  \n",
       "min        10.000000       0.000000  \n",
       "25%        82.000000       0.000000  \n",
       "50%       154.000000       0.000000  \n",
       "75%       227.000000       0.000000  \n",
       "max       299.000000       1.000000  "
      ]
     },
     "execution_count": 64,
     "metadata": {},
     "output_type": "execute_result"
    }
   ],
   "source": [
    "df2.describe()"
   ]
  },
  {
   "cell_type": "markdown",
   "id": "f6a4fe41",
   "metadata": {},
   "source": [
    "### column:- annual_premium"
   ]
  },
  {
   "cell_type": "code",
   "execution_count": 65,
   "id": "742533a5",
   "metadata": {},
   "outputs": [],
   "source": [
    "Q1=df2.describe().loc[\"25%\",\"annual premium (in Rs)\"]\n",
    "Q3=df2.describe().loc[\"75%\",\"annual premium (in Rs)\"]"
   ]
  },
  {
   "cell_type": "code",
   "execution_count": 66,
   "id": "b407f1b1",
   "metadata": {},
   "outputs": [],
   "source": [
    "IQR=Q3-Q1"
   ]
  },
  {
   "cell_type": "code",
   "execution_count": 67,
   "id": "483226fd",
   "metadata": {},
   "outputs": [
    {
     "name": "stdout",
     "output_type": "stream",
     "text": [
      "0\n",
      "10332\n"
     ]
    }
   ],
   "source": [
    "print(df2.loc[df2[\"annual premium (in Rs)\"]<(Q1-IQR*1.5),\"annual premium (in Rs)\"].count())\n",
    "print(df2.loc[df2[\"annual premium (in Rs)\"]>(Q3+IQR*1.5),\"annual premium (in Rs)\"].count()) "
   ]
  },
  {
   "cell_type": "code",
   "execution_count": 68,
   "id": "4984ccfa",
   "metadata": {},
   "outputs": [],
   "source": [
    "#it says annual premium has outlier so we are replacing it by mean\n",
    "df2.loc[df2[\"annual premium (in Rs)\"]>(Q3+IQR*1.5),\"annual premium (in Rs)\"]=df2[\"annual premium (in Rs)\"].mean()"
   ]
  },
  {
   "cell_type": "code",
   "execution_count": 69,
   "id": "c6a8b056",
   "metadata": {},
   "outputs": [
    {
     "name": "stdout",
     "output_type": "stream",
     "text": [
      "0\n"
     ]
    }
   ],
   "source": [
    "print(df2.loc[df2[\"annual premium (in Rs)\"]>(Q3+IQR*1.5),\"annual premium (in Rs)\"].count())"
   ]
  },
  {
   "cell_type": "markdown",
   "id": "ef90436b",
   "metadata": {},
   "source": [
    "### column:- sales_channel_code"
   ]
  },
  {
   "cell_type": "code",
   "execution_count": 70,
   "id": "a42b84c9",
   "metadata": {},
   "outputs": [],
   "source": [
    "Q1=df2.describe().loc[\"25%\",\"sales_channel_code\"]\n",
    "Q3=df2.describe().loc[\"75%\",\"sales_channel_code\"]"
   ]
  },
  {
   "cell_type": "code",
   "execution_count": 71,
   "id": "19fd7318",
   "metadata": {},
   "outputs": [],
   "source": [
    "IQR=Q3-Q1"
   ]
  },
  {
   "cell_type": "code",
   "execution_count": 72,
   "id": "00063858",
   "metadata": {},
   "outputs": [
    {
     "name": "stdout",
     "output_type": "stream",
     "text": [
      "0\n",
      "0\n"
     ]
    }
   ],
   "source": [
    "print(df2.loc[df2[\"sales_channel_code\"]<(Q1-IQR*1.5),\"sales_channel_code\"].count())\n",
    "print(df2.loc[df2[\"sales_channel_code\"]>(Q3+IQR*1.5),\"sales_channel_code\"].count()) "
   ]
  },
  {
   "cell_type": "code",
   "execution_count": 73,
   "id": "9696fc87",
   "metadata": {},
   "outputs": [],
   "source": [
    "#so there are no outliers in sales_channel_code"
   ]
  },
  {
   "cell_type": "markdown",
   "id": "c1cef24f",
   "metadata": {},
   "source": [
    "### column:- vintage"
   ]
  },
  {
   "cell_type": "code",
   "execution_count": 74,
   "id": "9d67d986",
   "metadata": {},
   "outputs": [],
   "source": [
    "Q1=df2.describe().loc[\"25%\",\"vintage\"]\n",
    "Q3=df2.describe().loc[\"75%\",\"vintage\"]"
   ]
  },
  {
   "cell_type": "code",
   "execution_count": 75,
   "id": "38a2e465",
   "metadata": {},
   "outputs": [],
   "source": [
    "IQR=Q3-Q1"
   ]
  },
  {
   "cell_type": "code",
   "execution_count": 76,
   "id": "44133f77",
   "metadata": {},
   "outputs": [
    {
     "name": "stdout",
     "output_type": "stream",
     "text": [
      "0\n",
      "0\n"
     ]
    }
   ],
   "source": [
    "print(df2.loc[df2[\"vintage\"]<(Q1-IQR*1.5),\"vintage\"].count())\n",
    "print(df2.loc[df2[\"vintage\"]>(Q3+IQR*1.5),\"vintage\"].count()) "
   ]
  },
  {
   "cell_type": "code",
   "execution_count": 77,
   "id": "12cf0040",
   "metadata": {},
   "outputs": [],
   "source": [
    "#so there are no outliers in vintage"
   ]
  },
  {
   "cell_type": "markdown",
   "id": "9b841c45",
   "metadata": {},
   "source": [
    "## Remove white spaces"
   ]
  },
  {
   "cell_type": "code",
   "execution_count": 78,
   "id": "90db3ffa",
   "metadata": {},
   "outputs": [],
   "source": [
    "df[\"Gender\"]=df[\"Gender\"].str.strip()"
   ]
  },
  {
   "cell_type": "code",
   "execution_count": 79,
   "id": "bc1c464f",
   "metadata": {},
   "outputs": [],
   "source": [
    "df[\"vechicle_age\"]=df[\"vechicle_age\"].str.strip()"
   ]
  },
  {
   "cell_type": "code",
   "execution_count": 80,
   "id": "16b4d8d0",
   "metadata": {},
   "outputs": [],
   "source": [
    "df[\"vechicle_damage\"]=df[\"vechicle_damage\"].str.strip()"
   ]
  },
  {
   "cell_type": "markdown",
   "id": "1bae3316",
   "metadata": {},
   "source": [
    "# CASE CHANGE"
   ]
  },
  {
   "cell_type": "code",
   "execution_count": 81,
   "id": "704b8091",
   "metadata": {},
   "outputs": [],
   "source": [
    "## case change\n",
    "df[\"vechicle_damage\"]=df[\"vechicle_damage\"].str.lower()"
   ]
  },
  {
   "cell_type": "code",
   "execution_count": 82,
   "id": "036c306d",
   "metadata": {},
   "outputs": [],
   "source": [
    "df[\"vechicle_age\"]=df[\"vechicle_age\"].str.lower()"
   ]
  },
  {
   "cell_type": "code",
   "execution_count": 83,
   "id": "57015426",
   "metadata": {},
   "outputs": [],
   "source": [
    "df[\"Gender\"]=df[\"Gender\"].str.lower()"
   ]
  },
  {
   "cell_type": "code",
   "execution_count": 84,
   "id": "3cec0472",
   "metadata": {},
   "outputs": [
    {
     "data": {
      "text/html": [
       "<div>\n",
       "<style scoped>\n",
       "    .dataframe tbody tr th:only-of-type {\n",
       "        vertical-align: middle;\n",
       "    }\n",
       "\n",
       "    .dataframe tbody tr th {\n",
       "        vertical-align: top;\n",
       "    }\n",
       "\n",
       "    .dataframe thead th {\n",
       "        text-align: right;\n",
       "    }\n",
       "</style>\n",
       "<table border=\"1\" class=\"dataframe\">\n",
       "  <thead>\n",
       "    <tr style=\"text-align: right;\">\n",
       "      <th></th>\n",
       "      <th>customer_id</th>\n",
       "      <th>Gender</th>\n",
       "      <th>age</th>\n",
       "      <th>driving_licence_present</th>\n",
       "      <th>region_code</th>\n",
       "      <th>previously_insured</th>\n",
       "      <th>vechicle_age</th>\n",
       "      <th>vechicle_damage</th>\n",
       "    </tr>\n",
       "  </thead>\n",
       "  <tbody>\n",
       "    <tr>\n",
       "      <th>0</th>\n",
       "      <td>1.0</td>\n",
       "      <td>male</td>\n",
       "      <td>44.0</td>\n",
       "      <td>1.0</td>\n",
       "      <td>28.0</td>\n",
       "      <td>0.0</td>\n",
       "      <td>&gt; 2 years</td>\n",
       "      <td>yes</td>\n",
       "    </tr>\n",
       "    <tr>\n",
       "      <th>1</th>\n",
       "      <td>2.0</td>\n",
       "      <td>male</td>\n",
       "      <td>76.0</td>\n",
       "      <td>1.0</td>\n",
       "      <td>3.0</td>\n",
       "      <td>0.0</td>\n",
       "      <td>1-2 year</td>\n",
       "      <td>no</td>\n",
       "    </tr>\n",
       "    <tr>\n",
       "      <th>2</th>\n",
       "      <td>3.0</td>\n",
       "      <td>male</td>\n",
       "      <td>47.0</td>\n",
       "      <td>1.0</td>\n",
       "      <td>28.0</td>\n",
       "      <td>0.0</td>\n",
       "      <td>&gt; 2 years</td>\n",
       "      <td>yes</td>\n",
       "    </tr>\n",
       "    <tr>\n",
       "      <th>3</th>\n",
       "      <td>4.0</td>\n",
       "      <td>male</td>\n",
       "      <td>21.0</td>\n",
       "      <td>1.0</td>\n",
       "      <td>11.0</td>\n",
       "      <td>1.0</td>\n",
       "      <td>&lt; 1 year</td>\n",
       "      <td>no</td>\n",
       "    </tr>\n",
       "    <tr>\n",
       "      <th>4</th>\n",
       "      <td>5.0</td>\n",
       "      <td>female</td>\n",
       "      <td>29.0</td>\n",
       "      <td>1.0</td>\n",
       "      <td>41.0</td>\n",
       "      <td>1.0</td>\n",
       "      <td>&lt; 1 year</td>\n",
       "      <td>no</td>\n",
       "    </tr>\n",
       "    <tr>\n",
       "      <th>...</th>\n",
       "      <td>...</td>\n",
       "      <td>...</td>\n",
       "      <td>...</td>\n",
       "      <td>...</td>\n",
       "      <td>...</td>\n",
       "      <td>...</td>\n",
       "      <td>...</td>\n",
       "      <td>...</td>\n",
       "    </tr>\n",
       "    <tr>\n",
       "      <th>381104</th>\n",
       "      <td>381105.0</td>\n",
       "      <td>male</td>\n",
       "      <td>74.0</td>\n",
       "      <td>1.0</td>\n",
       "      <td>26.0</td>\n",
       "      <td>1.0</td>\n",
       "      <td>1-2 year</td>\n",
       "      <td>no</td>\n",
       "    </tr>\n",
       "    <tr>\n",
       "      <th>381105</th>\n",
       "      <td>381106.0</td>\n",
       "      <td>male</td>\n",
       "      <td>30.0</td>\n",
       "      <td>1.0</td>\n",
       "      <td>37.0</td>\n",
       "      <td>1.0</td>\n",
       "      <td>&lt; 1 year</td>\n",
       "      <td>no</td>\n",
       "    </tr>\n",
       "    <tr>\n",
       "      <th>381106</th>\n",
       "      <td>381107.0</td>\n",
       "      <td>male</td>\n",
       "      <td>21.0</td>\n",
       "      <td>1.0</td>\n",
       "      <td>30.0</td>\n",
       "      <td>1.0</td>\n",
       "      <td>&lt; 1 year</td>\n",
       "      <td>no</td>\n",
       "    </tr>\n",
       "    <tr>\n",
       "      <th>381107</th>\n",
       "      <td>381108.0</td>\n",
       "      <td>female</td>\n",
       "      <td>68.0</td>\n",
       "      <td>1.0</td>\n",
       "      <td>14.0</td>\n",
       "      <td>0.0</td>\n",
       "      <td>&gt; 2 years</td>\n",
       "      <td>yes</td>\n",
       "    </tr>\n",
       "    <tr>\n",
       "      <th>381108</th>\n",
       "      <td>381109.0</td>\n",
       "      <td>male</td>\n",
       "      <td>46.0</td>\n",
       "      <td>1.0</td>\n",
       "      <td>29.0</td>\n",
       "      <td>0.0</td>\n",
       "      <td>1-2 year</td>\n",
       "      <td>no</td>\n",
       "    </tr>\n",
       "  </tbody>\n",
       "</table>\n",
       "<p>380723 rows × 8 columns</p>\n",
       "</div>"
      ],
      "text/plain": [
       "        customer_id  Gender   age  driving_licence_present  region_code  \\\n",
       "0               1.0    male  44.0                      1.0         28.0   \n",
       "1               2.0    male  76.0                      1.0          3.0   \n",
       "2               3.0    male  47.0                      1.0         28.0   \n",
       "3               4.0    male  21.0                      1.0         11.0   \n",
       "4               5.0  female  29.0                      1.0         41.0   \n",
       "...             ...     ...   ...                      ...          ...   \n",
       "381104     381105.0    male  74.0                      1.0         26.0   \n",
       "381105     381106.0    male  30.0                      1.0         37.0   \n",
       "381106     381107.0    male  21.0                      1.0         30.0   \n",
       "381107     381108.0  female  68.0                      1.0         14.0   \n",
       "381108     381109.0    male  46.0                      1.0         29.0   \n",
       "\n",
       "        previously_insured vechicle_age vechicle_damage  \n",
       "0                      0.0    > 2 years             yes  \n",
       "1                      0.0     1-2 year              no  \n",
       "2                      0.0    > 2 years             yes  \n",
       "3                      1.0     < 1 year              no  \n",
       "4                      1.0     < 1 year              no  \n",
       "...                    ...          ...             ...  \n",
       "381104                 1.0     1-2 year              no  \n",
       "381105                 1.0     < 1 year              no  \n",
       "381106                 1.0     < 1 year              no  \n",
       "381107                 0.0    > 2 years             yes  \n",
       "381108                 0.0     1-2 year              no  \n",
       "\n",
       "[380723 rows x 8 columns]"
      ]
     },
     "execution_count": 84,
     "metadata": {},
     "output_type": "execute_result"
    }
   ],
   "source": [
    "df"
   ]
  },
  {
   "cell_type": "markdown",
   "id": "e0aa3685",
   "metadata": {},
   "source": [
    "### Convert nominal data (categorical) into dummies for future modeling use if required"
   ]
  },
  {
   "cell_type": "code",
   "execution_count": 85,
   "id": "971e7168",
   "metadata": {},
   "outputs": [],
   "source": [
    "gender_dummi=pd.get_dummies(df[\"Gender\"])"
   ]
  },
  {
   "cell_type": "code",
   "execution_count": 86,
   "id": "6489aeb3",
   "metadata": {},
   "outputs": [],
   "source": [
    "vechicle_age_dummi=pd.get_dummies(df[\"vechicle_age\"])"
   ]
  },
  {
   "cell_type": "code",
   "execution_count": 87,
   "id": "ffc624cf",
   "metadata": {},
   "outputs": [],
   "source": [
    "vechicle_damage_dummi=pd.get_dummies(df[\"vechicle_damage\"])"
   ]
  },
  {
   "cell_type": "code",
   "execution_count": 88,
   "id": "f74d35b0",
   "metadata": {},
   "outputs": [],
   "source": [
    "driving_licence_present_dummi=pd.get_dummies(df[\"driving_licence_present\"])"
   ]
  },
  {
   "cell_type": "code",
   "execution_count": 89,
   "id": "a23b3503",
   "metadata": {},
   "outputs": [],
   "source": [
    "previously_insured_dummi=pd.get_dummies(df[\"previously_insured\"])"
   ]
  },
  {
   "cell_type": "code",
   "execution_count": 90,
   "id": "a84a39f4",
   "metadata": {},
   "outputs": [],
   "source": [
    "response_dummi=pd.get_dummies(df2[\"response\"])"
   ]
  },
  {
   "cell_type": "code",
   "execution_count": 91,
   "id": "4c740f0c",
   "metadata": {},
   "outputs": [
    {
     "data": {
      "text/html": [
       "<div>\n",
       "<style scoped>\n",
       "    .dataframe tbody tr th:only-of-type {\n",
       "        vertical-align: middle;\n",
       "    }\n",
       "\n",
       "    .dataframe tbody tr th {\n",
       "        vertical-align: top;\n",
       "    }\n",
       "\n",
       "    .dataframe thead th {\n",
       "        text-align: right;\n",
       "    }\n",
       "</style>\n",
       "<table border=\"1\" class=\"dataframe\">\n",
       "  <thead>\n",
       "    <tr style=\"text-align: right;\">\n",
       "      <th></th>\n",
       "      <th>customer_id</th>\n",
       "      <th>annual premium (in Rs)</th>\n",
       "      <th>sales_channel_code</th>\n",
       "      <th>vintage</th>\n",
       "      <th>response</th>\n",
       "    </tr>\n",
       "  </thead>\n",
       "  <tbody>\n",
       "    <tr>\n",
       "      <th>0</th>\n",
       "      <td>1.0</td>\n",
       "      <td>40454.0</td>\n",
       "      <td>26.0</td>\n",
       "      <td>217.0</td>\n",
       "      <td>1.0</td>\n",
       "    </tr>\n",
       "    <tr>\n",
       "      <th>1</th>\n",
       "      <td>2.0</td>\n",
       "      <td>33536.0</td>\n",
       "      <td>26.0</td>\n",
       "      <td>183.0</td>\n",
       "      <td>0.0</td>\n",
       "    </tr>\n",
       "    <tr>\n",
       "      <th>2</th>\n",
       "      <td>3.0</td>\n",
       "      <td>38294.0</td>\n",
       "      <td>26.0</td>\n",
       "      <td>27.0</td>\n",
       "      <td>1.0</td>\n",
       "    </tr>\n",
       "    <tr>\n",
       "      <th>3</th>\n",
       "      <td>4.0</td>\n",
       "      <td>28619.0</td>\n",
       "      <td>152.0</td>\n",
       "      <td>203.0</td>\n",
       "      <td>0.0</td>\n",
       "    </tr>\n",
       "    <tr>\n",
       "      <th>4</th>\n",
       "      <td>5.0</td>\n",
       "      <td>27496.0</td>\n",
       "      <td>152.0</td>\n",
       "      <td>39.0</td>\n",
       "      <td>0.0</td>\n",
       "    </tr>\n",
       "    <tr>\n",
       "      <th>...</th>\n",
       "      <td>...</td>\n",
       "      <td>...</td>\n",
       "      <td>...</td>\n",
       "      <td>...</td>\n",
       "      <td>...</td>\n",
       "    </tr>\n",
       "    <tr>\n",
       "      <th>381104</th>\n",
       "      <td>381105.0</td>\n",
       "      <td>30170.0</td>\n",
       "      <td>26.0</td>\n",
       "      <td>88.0</td>\n",
       "      <td>0.0</td>\n",
       "    </tr>\n",
       "    <tr>\n",
       "      <th>381105</th>\n",
       "      <td>381106.0</td>\n",
       "      <td>40016.0</td>\n",
       "      <td>152.0</td>\n",
       "      <td>131.0</td>\n",
       "      <td>0.0</td>\n",
       "    </tr>\n",
       "    <tr>\n",
       "      <th>381106</th>\n",
       "      <td>381107.0</td>\n",
       "      <td>35118.0</td>\n",
       "      <td>160.0</td>\n",
       "      <td>161.0</td>\n",
       "      <td>0.0</td>\n",
       "    </tr>\n",
       "    <tr>\n",
       "      <th>381107</th>\n",
       "      <td>381108.0</td>\n",
       "      <td>44617.0</td>\n",
       "      <td>124.0</td>\n",
       "      <td>74.0</td>\n",
       "      <td>0.0</td>\n",
       "    </tr>\n",
       "    <tr>\n",
       "      <th>381108</th>\n",
       "      <td>381109.0</td>\n",
       "      <td>41777.0</td>\n",
       "      <td>26.0</td>\n",
       "      <td>237.0</td>\n",
       "      <td>0.0</td>\n",
       "    </tr>\n",
       "  </tbody>\n",
       "</table>\n",
       "<p>380722 rows × 5 columns</p>\n",
       "</div>"
      ],
      "text/plain": [
       "        customer_id  annual premium (in Rs)  sales_channel_code  vintage  \\\n",
       "0               1.0                 40454.0                26.0    217.0   \n",
       "1               2.0                 33536.0                26.0    183.0   \n",
       "2               3.0                 38294.0                26.0     27.0   \n",
       "3               4.0                 28619.0               152.0    203.0   \n",
       "4               5.0                 27496.0               152.0     39.0   \n",
       "...             ...                     ...                 ...      ...   \n",
       "381104     381105.0                 30170.0                26.0     88.0   \n",
       "381105     381106.0                 40016.0               152.0    131.0   \n",
       "381106     381107.0                 35118.0               160.0    161.0   \n",
       "381107     381108.0                 44617.0               124.0     74.0   \n",
       "381108     381109.0                 41777.0                26.0    237.0   \n",
       "\n",
       "        response  \n",
       "0            1.0  \n",
       "1            0.0  \n",
       "2            1.0  \n",
       "3            0.0  \n",
       "4            0.0  \n",
       "...          ...  \n",
       "381104       0.0  \n",
       "381105       0.0  \n",
       "381106       0.0  \n",
       "381107       0.0  \n",
       "381108       0.0  \n",
       "\n",
       "[380722 rows x 5 columns]"
      ]
     },
     "execution_count": 91,
     "metadata": {},
     "output_type": "execute_result"
    }
   ],
   "source": [
    "df2"
   ]
  },
  {
   "cell_type": "markdown",
   "id": "3abf3699",
   "metadata": {},
   "source": [
    "### checking for any duplicates"
   ]
  },
  {
   "cell_type": "code",
   "execution_count": 92,
   "id": "4be025a8",
   "metadata": {},
   "outputs": [
    {
     "name": "stdout",
     "output_type": "stream",
     "text": [
      "The no of duplicates in customer_details :  0\n"
     ]
    }
   ],
   "source": [
    "print(\"The no of duplicates in customer_details : \",df.duplicated().sum())"
   ]
  },
  {
   "cell_type": "code",
   "execution_count": 93,
   "id": "fc354cdb",
   "metadata": {},
   "outputs": [
    {
     "name": "stdout",
     "output_type": "stream",
     "text": [
      "The no of duplicates in customer_policy_details :  0\n"
     ]
    }
   ],
   "source": [
    "print(\"The no of duplicates in customer_policy_details : \",df2.duplicated().sum())"
   ]
  },
  {
   "cell_type": "markdown",
   "id": "309705cb",
   "metadata": {},
   "source": [
    "###  Create a Master table for future use. Join the customer table and customer_policy table to get a master table using customer_id in both tables."
   ]
  },
  {
   "cell_type": "code",
   "execution_count": 94,
   "id": "09339dae",
   "metadata": {},
   "outputs": [
    {
     "data": {
      "text/html": [
       "<div>\n",
       "<style scoped>\n",
       "    .dataframe tbody tr th:only-of-type {\n",
       "        vertical-align: middle;\n",
       "    }\n",
       "\n",
       "    .dataframe tbody tr th {\n",
       "        vertical-align: top;\n",
       "    }\n",
       "\n",
       "    .dataframe thead th {\n",
       "        text-align: right;\n",
       "    }\n",
       "</style>\n",
       "<table border=\"1\" class=\"dataframe\">\n",
       "  <thead>\n",
       "    <tr style=\"text-align: right;\">\n",
       "      <th></th>\n",
       "      <th>customer_id</th>\n",
       "      <th>Gender</th>\n",
       "      <th>age</th>\n",
       "      <th>driving_licence_present</th>\n",
       "      <th>region_code</th>\n",
       "      <th>previously_insured</th>\n",
       "      <th>vechicle_age</th>\n",
       "      <th>vechicle_damage</th>\n",
       "      <th>annual premium (in Rs)</th>\n",
       "      <th>sales_channel_code</th>\n",
       "      <th>vintage</th>\n",
       "      <th>response</th>\n",
       "    </tr>\n",
       "  </thead>\n",
       "  <tbody>\n",
       "    <tr>\n",
       "      <th>0</th>\n",
       "      <td>1.0</td>\n",
       "      <td>male</td>\n",
       "      <td>44.0</td>\n",
       "      <td>1.0</td>\n",
       "      <td>28.0</td>\n",
       "      <td>0.0</td>\n",
       "      <td>&gt; 2 years</td>\n",
       "      <td>yes</td>\n",
       "      <td>40454.0</td>\n",
       "      <td>26.0</td>\n",
       "      <td>217.0</td>\n",
       "      <td>1.0</td>\n",
       "    </tr>\n",
       "    <tr>\n",
       "      <th>1</th>\n",
       "      <td>2.0</td>\n",
       "      <td>male</td>\n",
       "      <td>76.0</td>\n",
       "      <td>1.0</td>\n",
       "      <td>3.0</td>\n",
       "      <td>0.0</td>\n",
       "      <td>1-2 year</td>\n",
       "      <td>no</td>\n",
       "      <td>33536.0</td>\n",
       "      <td>26.0</td>\n",
       "      <td>183.0</td>\n",
       "      <td>0.0</td>\n",
       "    </tr>\n",
       "    <tr>\n",
       "      <th>2</th>\n",
       "      <td>3.0</td>\n",
       "      <td>male</td>\n",
       "      <td>47.0</td>\n",
       "      <td>1.0</td>\n",
       "      <td>28.0</td>\n",
       "      <td>0.0</td>\n",
       "      <td>&gt; 2 years</td>\n",
       "      <td>yes</td>\n",
       "      <td>38294.0</td>\n",
       "      <td>26.0</td>\n",
       "      <td>27.0</td>\n",
       "      <td>1.0</td>\n",
       "    </tr>\n",
       "    <tr>\n",
       "      <th>3</th>\n",
       "      <td>4.0</td>\n",
       "      <td>male</td>\n",
       "      <td>21.0</td>\n",
       "      <td>1.0</td>\n",
       "      <td>11.0</td>\n",
       "      <td>1.0</td>\n",
       "      <td>&lt; 1 year</td>\n",
       "      <td>no</td>\n",
       "      <td>28619.0</td>\n",
       "      <td>152.0</td>\n",
       "      <td>203.0</td>\n",
       "      <td>0.0</td>\n",
       "    </tr>\n",
       "    <tr>\n",
       "      <th>4</th>\n",
       "      <td>5.0</td>\n",
       "      <td>female</td>\n",
       "      <td>29.0</td>\n",
       "      <td>1.0</td>\n",
       "      <td>41.0</td>\n",
       "      <td>1.0</td>\n",
       "      <td>&lt; 1 year</td>\n",
       "      <td>no</td>\n",
       "      <td>27496.0</td>\n",
       "      <td>152.0</td>\n",
       "      <td>39.0</td>\n",
       "      <td>0.0</td>\n",
       "    </tr>\n",
       "    <tr>\n",
       "      <th>...</th>\n",
       "      <td>...</td>\n",
       "      <td>...</td>\n",
       "      <td>...</td>\n",
       "      <td>...</td>\n",
       "      <td>...</td>\n",
       "      <td>...</td>\n",
       "      <td>...</td>\n",
       "      <td>...</td>\n",
       "      <td>...</td>\n",
       "      <td>...</td>\n",
       "      <td>...</td>\n",
       "      <td>...</td>\n",
       "    </tr>\n",
       "    <tr>\n",
       "      <th>380331</th>\n",
       "      <td>381105.0</td>\n",
       "      <td>male</td>\n",
       "      <td>74.0</td>\n",
       "      <td>1.0</td>\n",
       "      <td>26.0</td>\n",
       "      <td>1.0</td>\n",
       "      <td>1-2 year</td>\n",
       "      <td>no</td>\n",
       "      <td>30170.0</td>\n",
       "      <td>26.0</td>\n",
       "      <td>88.0</td>\n",
       "      <td>0.0</td>\n",
       "    </tr>\n",
       "    <tr>\n",
       "      <th>380332</th>\n",
       "      <td>381106.0</td>\n",
       "      <td>male</td>\n",
       "      <td>30.0</td>\n",
       "      <td>1.0</td>\n",
       "      <td>37.0</td>\n",
       "      <td>1.0</td>\n",
       "      <td>&lt; 1 year</td>\n",
       "      <td>no</td>\n",
       "      <td>40016.0</td>\n",
       "      <td>152.0</td>\n",
       "      <td>131.0</td>\n",
       "      <td>0.0</td>\n",
       "    </tr>\n",
       "    <tr>\n",
       "      <th>380333</th>\n",
       "      <td>381107.0</td>\n",
       "      <td>male</td>\n",
       "      <td>21.0</td>\n",
       "      <td>1.0</td>\n",
       "      <td>30.0</td>\n",
       "      <td>1.0</td>\n",
       "      <td>&lt; 1 year</td>\n",
       "      <td>no</td>\n",
       "      <td>35118.0</td>\n",
       "      <td>160.0</td>\n",
       "      <td>161.0</td>\n",
       "      <td>0.0</td>\n",
       "    </tr>\n",
       "    <tr>\n",
       "      <th>380334</th>\n",
       "      <td>381108.0</td>\n",
       "      <td>female</td>\n",
       "      <td>68.0</td>\n",
       "      <td>1.0</td>\n",
       "      <td>14.0</td>\n",
       "      <td>0.0</td>\n",
       "      <td>&gt; 2 years</td>\n",
       "      <td>yes</td>\n",
       "      <td>44617.0</td>\n",
       "      <td>124.0</td>\n",
       "      <td>74.0</td>\n",
       "      <td>0.0</td>\n",
       "    </tr>\n",
       "    <tr>\n",
       "      <th>380335</th>\n",
       "      <td>381109.0</td>\n",
       "      <td>male</td>\n",
       "      <td>46.0</td>\n",
       "      <td>1.0</td>\n",
       "      <td>29.0</td>\n",
       "      <td>0.0</td>\n",
       "      <td>1-2 year</td>\n",
       "      <td>no</td>\n",
       "      <td>41777.0</td>\n",
       "      <td>26.0</td>\n",
       "      <td>237.0</td>\n",
       "      <td>0.0</td>\n",
       "    </tr>\n",
       "  </tbody>\n",
       "</table>\n",
       "<p>380336 rows × 12 columns</p>\n",
       "</div>"
      ],
      "text/plain": [
       "        customer_id  Gender   age  driving_licence_present  region_code  \\\n",
       "0               1.0    male  44.0                      1.0         28.0   \n",
       "1               2.0    male  76.0                      1.0          3.0   \n",
       "2               3.0    male  47.0                      1.0         28.0   \n",
       "3               4.0    male  21.0                      1.0         11.0   \n",
       "4               5.0  female  29.0                      1.0         41.0   \n",
       "...             ...     ...   ...                      ...          ...   \n",
       "380331     381105.0    male  74.0                      1.0         26.0   \n",
       "380332     381106.0    male  30.0                      1.0         37.0   \n",
       "380333     381107.0    male  21.0                      1.0         30.0   \n",
       "380334     381108.0  female  68.0                      1.0         14.0   \n",
       "380335     381109.0    male  46.0                      1.0         29.0   \n",
       "\n",
       "        previously_insured vechicle_age vechicle_damage  \\\n",
       "0                      0.0    > 2 years             yes   \n",
       "1                      0.0     1-2 year              no   \n",
       "2                      0.0    > 2 years             yes   \n",
       "3                      1.0     < 1 year              no   \n",
       "4                      1.0     < 1 year              no   \n",
       "...                    ...          ...             ...   \n",
       "380331                 1.0     1-2 year              no   \n",
       "380332                 1.0     < 1 year              no   \n",
       "380333                 1.0     < 1 year              no   \n",
       "380334                 0.0    > 2 years             yes   \n",
       "380335                 0.0     1-2 year              no   \n",
       "\n",
       "        annual premium (in Rs)  sales_channel_code  vintage  response  \n",
       "0                      40454.0                26.0    217.0       1.0  \n",
       "1                      33536.0                26.0    183.0       0.0  \n",
       "2                      38294.0                26.0     27.0       1.0  \n",
       "3                      28619.0               152.0    203.0       0.0  \n",
       "4                      27496.0               152.0     39.0       0.0  \n",
       "...                        ...                 ...      ...       ...  \n",
       "380331                 30170.0                26.0     88.0       0.0  \n",
       "380332                 40016.0               152.0    131.0       0.0  \n",
       "380333                 35118.0               160.0    161.0       0.0  \n",
       "380334                 44617.0               124.0     74.0       0.0  \n",
       "380335                 41777.0                26.0    237.0       0.0  \n",
       "\n",
       "[380336 rows x 12 columns]"
      ]
     },
     "execution_count": 94,
     "metadata": {},
     "output_type": "execute_result"
    }
   ],
   "source": [
    "master_df=pd.merge(df,df2,on='customer_id')\n",
    "master_df"
   ]
  },
  {
   "cell_type": "markdown",
   "id": "2ff82416",
   "metadata": {},
   "source": [
    "#### Company needs some important information from the master table to make decisions for future growth.They needs following information:"
   ]
  },
  {
   "cell_type": "markdown",
   "id": "5bdafafa",
   "metadata": {},
   "source": [
    "##### i. Gender wise average annual premium\n",
    "\n",
    "##### ii. Age wise average annual premium\n",
    "\n",
    "##### iii. Is your data balanced between the genders?\n",
    "(Hint: Data is balanced if number of counts in each group is approximately same)\n",
    "\n",
    "##### iv. Vehicle age wise average annual premium."
   ]
  },
  {
   "cell_type": "code",
   "execution_count": 95,
   "id": "bc8bfb6a",
   "metadata": {},
   "outputs": [],
   "source": [
    "# Gender wise average annual premium\n",
    "gen_anl=master_df.groupby([\"Gender\"])[\"annual premium (in Rs)\"].mean()"
   ]
  },
  {
   "cell_type": "code",
   "execution_count": 96,
   "id": "85669037",
   "metadata": {},
   "outputs": [
    {
     "data": {
      "text/plain": [
       "Gender\n",
       "female    29273.474247\n",
       "male      29323.099677\n",
       "Name: annual premium (in Rs), dtype: float64"
      ]
     },
     "execution_count": 96,
     "metadata": {},
     "output_type": "execute_result"
    }
   ],
   "source": [
    "gen_anl"
   ]
  },
  {
   "cell_type": "code",
   "execution_count": 97,
   "id": "c10d620f",
   "metadata": {},
   "outputs": [],
   "source": [
    "##Age wise average annual premium\n",
    "age_anl=master_df.groupby([\"age\"])[\"annual premium (in Rs)\"].mean()"
   ]
  },
  {
   "cell_type": "code",
   "execution_count": 98,
   "id": "e6529754",
   "metadata": {},
   "outputs": [
    {
     "data": {
      "text/plain": [
       "age\n",
       "20.0    26342.073517\n",
       "21.0    29751.791916\n",
       "22.0    29946.848634\n",
       "23.0    29838.344763\n",
       "24.0    30125.557096\n",
       "            ...     \n",
       "81.0    29287.910702\n",
       "82.0    36480.586199\n",
       "83.0    28995.818172\n",
       "84.0    35440.818182\n",
       "85.0    26637.454525\n",
       "Name: annual premium (in Rs), Length: 67, dtype: float64"
      ]
     },
     "execution_count": 98,
     "metadata": {},
     "output_type": "execute_result"
    }
   ],
   "source": [
    "age_anl"
   ]
  },
  {
   "cell_type": "code",
   "execution_count": 99,
   "id": "c8523b43",
   "metadata": {},
   "outputs": [],
   "source": [
    "##Is your data balanced between the genders?\n",
    "##yes it count approximatly same."
   ]
  },
  {
   "cell_type": "code",
   "execution_count": 100,
   "id": "301d7157",
   "metadata": {},
   "outputs": [],
   "source": [
    "## Vehicle age wise average annual premium.\n",
    "vec_anl=master_df.groupby([\"vechicle_age\"])[\"annual premium (in Rs)\"].mean()"
   ]
  },
  {
   "cell_type": "code",
   "execution_count": 101,
   "id": "d05815b5",
   "metadata": {},
   "outputs": [
    {
     "data": {
      "text/plain": [
       "vechicle_age\n",
       "1-2 year     29102.009839\n",
       "< 1 year     29188.150594\n",
       "> 2 years    32943.540830\n",
       "Name: annual premium (in Rs), dtype: float64"
      ]
     },
     "execution_count": 101,
     "metadata": {},
     "output_type": "execute_result"
    }
   ],
   "source": [
    "vec_anl"
   ]
  },
  {
   "cell_type": "markdown",
   "id": "239d624b",
   "metadata": {},
   "source": [
    "####  Is there any relation between Person Age and annual premium?\n",
    "Hint: use correlation function (Correlation describes the relationship between two variables)."
   ]
  },
  {
   "cell_type": "markdown",
   "id": "f781bf3a",
   "metadata": {},
   "source": [
    "Correlation coefficient < -0.5 - Strong negative relationship\n",
    "\n",
    "Correlation coefficient > 0.5 - Strong positive relationship\n",
    "\n",
    "0.5 < Correlation coefficient < 0.5 - There is no relationship."
   ]
  },
  {
   "cell_type": "code",
   "execution_count": 102,
   "id": "ae607b62",
   "metadata": {},
   "outputs": [],
   "source": [
    "corelation=master_df[\"age\"].corr(master_df[\"annual premium (in Rs)\"])"
   ]
  },
  {
   "cell_type": "code",
   "execution_count": 103,
   "id": "f85faa51",
   "metadata": {},
   "outputs": [
    {
     "data": {
      "text/plain": [
       "0.05065758928617531"
      ]
     },
     "execution_count": 103,
     "metadata": {},
     "output_type": "execute_result"
    }
   ],
   "source": [
    "corelation"
   ]
  },
  {
   "cell_type": "code",
   "execution_count": 104,
   "id": "5be9a3ea",
   "metadata": {},
   "outputs": [],
   "source": [
    "#there is no relationship \n",
    "# beacause the corelation is  <0.5"
   ]
  }
 ],
 "metadata": {
  "kernelspec": {
   "display_name": "Python 3 (ipykernel)",
   "language": "python",
   "name": "python3"
  },
  "language_info": {
   "codemirror_mode": {
    "name": "ipython",
    "version": 3
   },
   "file_extension": ".py",
   "mimetype": "text/x-python",
   "name": "python",
   "nbconvert_exporter": "python",
   "pygments_lexer": "ipython3",
   "version": "3.9.13"
  }
 },
 "nbformat": 4,
 "nbformat_minor": 5
}
